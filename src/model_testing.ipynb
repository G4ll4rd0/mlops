{
 "cells": [
  {
   "cell_type": "code",
   "execution_count": 2,
   "metadata": {},
   "outputs": [
    {
     "name": "stderr",
     "output_type": "stream",
     "text": [
      "c:\\Users\\Rafael\\OneDrive - ITESO\\2024.3 Otoño\\PAP\\MLOPS\\mlops\\.venv\\Lib\\site-packages\\tqdm\\auto.py:21: TqdmWarning: IProgress not found. Please update jupyter and ipywidgets. See https://ipywidgets.readthedocs.io/en/stable/user_install.html\n",
      "  from .autonotebook import tqdm as notebook_tqdm\n"
     ]
    }
   ],
   "source": [
    "import os\n",
    "import pickle\n",
    "\n",
    "import pandas as pd\n",
    "from sklearn.linear_model import LogisticRegression\n",
    "from sklearn.metrics import accuracy_score, f1_score\n",
    "from sklearn.model_selection import train_test_split\n",
    "from sklearn.pipeline import make_pipeline\n",
    "from sklearn.preprocessing import Normalizer\n",
    "from ydata_profiling import ProfileReport\n",
    "\n",
    "SEED = 20020906"
   ]
  },
  {
   "cell_type": "code",
   "execution_count": 21,
   "metadata": {},
   "outputs": [],
   "source": [
    "dx = pd.read_csv('../data/credit_train.csv')"
   ]
  },
  {
   "cell_type": "code",
   "execution_count": 7,
   "metadata": {},
   "outputs": [
    {
     "name": "stderr",
     "output_type": "stream",
     "text": [
      "Summarize dataset: 100%|██████████| 474/474 [01:37<00:00,  4.84it/s, Completed]               \n",
      "Generate report structure: 100%|██████████| 1/1 [00:13<00:00, 13.19s/it]\n",
      "Render HTML: 100%|██████████| 1/1 [00:18<00:00, 18.73s/it]\n",
      "Export report to file: 100%|██████████| 1/1 [00:01<00:00,  1.84s/it]\n"
     ]
    }
   ],
   "source": [
    "ProfileReport(dx).to_file('../data/report.html')"
   ]
  },
  {
   "cell_type": "code",
   "execution_count": 22,
   "metadata": {},
   "outputs": [],
   "source": [
    "data = dx.copy()"
   ]
  },
  {
   "cell_type": "code",
   "execution_count": 23,
   "metadata": {},
   "outputs": [
    {
     "data": {
      "text/plain": [
       "(25000, 24)"
      ]
     },
     "execution_count": 23,
     "metadata": {},
     "output_type": "execute_result"
    }
   ],
   "source": [
    "data.shape"
   ]
  },
  {
   "cell_type": "code",
   "execution_count": 24,
   "metadata": {},
   "outputs": [],
   "source": [
    "data.drop_duplicates(inplace = True)"
   ]
  },
  {
   "cell_type": "code",
   "execution_count": 25,
   "metadata": {},
   "outputs": [
    {
     "data": {
      "text/plain": [
       "(24978, 24)"
      ]
     },
     "execution_count": 25,
     "metadata": {},
     "output_type": "execute_result"
    }
   ],
   "source": [
    "data.shape"
   ]
  },
  {
   "cell_type": "code",
   "execution_count": 26,
   "metadata": {},
   "outputs": [
    {
     "data": {
      "text/plain": [
       "['X6', 'X7', 'X8', 'X9', 'X10', 'X11']"
      ]
     },
     "execution_count": 26,
     "metadata": {},
     "output_type": "execute_result"
    }
   ],
   "source": [
    "drop_cols = []\n",
    "for col in data.columns:\n",
    "    x = data[col]\n",
    "    az = len(x.loc[x.values == 0])\n",
    "    crit = az/len(data)*100\n",
    "    if crit > 45:\n",
    "        drop_cols.append(col)\n",
    "\n",
    "drop_cols[:-1]"
   ]
  },
  {
   "cell_type": "code",
   "execution_count": 28,
   "metadata": {},
   "outputs": [],
   "source": [
    "data = data.drop(drop_cols[:-1], axis = 1)"
   ]
  },
  {
   "cell_type": "code",
   "execution_count": 29,
   "metadata": {},
   "outputs": [],
   "source": [
    "x = data.drop('Y', axis = 1)\n",
    "y = data.Y\n",
    "\n",
    "x_train, x_test, y_train, y_test = train_test_split(x, y, test_size = 0.25, random_state = SEED)"
   ]
  },
  {
   "cell_type": "code",
   "execution_count": 63,
   "metadata": {},
   "outputs": [
    {
     "data": {
      "text/html": [
       "<div>\n",
       "<style scoped>\n",
       "    .dataframe tbody tr th:only-of-type {\n",
       "        vertical-align: middle;\n",
       "    }\n",
       "\n",
       "    .dataframe tbody tr th {\n",
       "        vertical-align: top;\n",
       "    }\n",
       "\n",
       "    .dataframe thead th {\n",
       "        text-align: right;\n",
       "    }\n",
       "</style>\n",
       "<table border=\"1\" class=\"dataframe\">\n",
       "  <thead>\n",
       "    <tr style=\"text-align: right;\">\n",
       "      <th></th>\n",
       "      <th>X1</th>\n",
       "      <th>X2</th>\n",
       "      <th>X3</th>\n",
       "      <th>X4</th>\n",
       "      <th>X5</th>\n",
       "      <th>X12</th>\n",
       "      <th>X13</th>\n",
       "      <th>X14</th>\n",
       "      <th>X15</th>\n",
       "      <th>X16</th>\n",
       "      <th>X17</th>\n",
       "      <th>X18</th>\n",
       "      <th>X19</th>\n",
       "      <th>X20</th>\n",
       "      <th>X21</th>\n",
       "      <th>X22</th>\n",
       "      <th>X23</th>\n",
       "    </tr>\n",
       "  </thead>\n",
       "  <tbody>\n",
       "    <tr>\n",
       "      <th>0</th>\n",
       "      <td>20000</td>\n",
       "      <td>2</td>\n",
       "      <td>2</td>\n",
       "      <td>2</td>\n",
       "      <td>44</td>\n",
       "      <td>18578</td>\n",
       "      <td>19928</td>\n",
       "      <td>18677</td>\n",
       "      <td>18503</td>\n",
       "      <td>17231</td>\n",
       "      <td>15410</td>\n",
       "      <td>2000</td>\n",
       "      <td>2000</td>\n",
       "      <td>2000</td>\n",
       "      <td>1100</td>\n",
       "      <td>1586</td>\n",
       "      <td>506</td>\n",
       "    </tr>\n",
       "    <tr>\n",
       "      <th>1</th>\n",
       "      <td>100000</td>\n",
       "      <td>2</td>\n",
       "      <td>2</td>\n",
       "      <td>1</td>\n",
       "      <td>49</td>\n",
       "      <td>5532</td>\n",
       "      <td>5325</td>\n",
       "      <td>5423</td>\n",
       "      <td>29628</td>\n",
       "      <td>13252</td>\n",
       "      <td>3723</td>\n",
       "      <td>5325</td>\n",
       "      <td>5423</td>\n",
       "      <td>29628</td>\n",
       "      <td>0</td>\n",
       "      <td>0</td>\n",
       "      <td>3513</td>\n",
       "    </tr>\n",
       "    <tr>\n",
       "      <th>2</th>\n",
       "      <td>210000</td>\n",
       "      <td>2</td>\n",
       "      <td>2</td>\n",
       "      <td>1</td>\n",
       "      <td>29</td>\n",
       "      <td>42140</td>\n",
       "      <td>31938</td>\n",
       "      <td>45502</td>\n",
       "      <td>41704</td>\n",
       "      <td>40509</td>\n",
       "      <td>41305</td>\n",
       "      <td>2000</td>\n",
       "      <td>20020</td>\n",
       "      <td>1672</td>\n",
       "      <td>1600</td>\n",
       "      <td>1600</td>\n",
       "      <td>2000</td>\n",
       "    </tr>\n",
       "    <tr>\n",
       "      <th>3</th>\n",
       "      <td>120000</td>\n",
       "      <td>2</td>\n",
       "      <td>2</td>\n",
       "      <td>2</td>\n",
       "      <td>28</td>\n",
       "      <td>200</td>\n",
       "      <td>200</td>\n",
       "      <td>0</td>\n",
       "      <td>0</td>\n",
       "      <td>0</td>\n",
       "      <td>0</td>\n",
       "      <td>0</td>\n",
       "      <td>0</td>\n",
       "      <td>0</td>\n",
       "      <td>0</td>\n",
       "      <td>0</td>\n",
       "      <td>0</td>\n",
       "    </tr>\n",
       "    <tr>\n",
       "      <th>4</th>\n",
       "      <td>50000</td>\n",
       "      <td>2</td>\n",
       "      <td>2</td>\n",
       "      <td>2</td>\n",
       "      <td>47</td>\n",
       "      <td>50883</td>\n",
       "      <td>51117</td>\n",
       "      <td>51125</td>\n",
       "      <td>50497</td>\n",
       "      <td>50544</td>\n",
       "      <td>50555</td>\n",
       "      <td>2200</td>\n",
       "      <td>5300</td>\n",
       "      <td>2000</td>\n",
       "      <td>2000</td>\n",
       "      <td>2000</td>\n",
       "      <td>2000</td>\n",
       "    </tr>\n",
       "    <tr>\n",
       "      <th>...</th>\n",
       "      <td>...</td>\n",
       "      <td>...</td>\n",
       "      <td>...</td>\n",
       "      <td>...</td>\n",
       "      <td>...</td>\n",
       "      <td>...</td>\n",
       "      <td>...</td>\n",
       "      <td>...</td>\n",
       "      <td>...</td>\n",
       "      <td>...</td>\n",
       "      <td>...</td>\n",
       "      <td>...</td>\n",
       "      <td>...</td>\n",
       "      <td>...</td>\n",
       "      <td>...</td>\n",
       "      <td>...</td>\n",
       "      <td>...</td>\n",
       "    </tr>\n",
       "    <tr>\n",
       "      <th>24995</th>\n",
       "      <td>90000</td>\n",
       "      <td>2</td>\n",
       "      <td>3</td>\n",
       "      <td>2</td>\n",
       "      <td>22</td>\n",
       "      <td>68663</td>\n",
       "      <td>65244</td>\n",
       "      <td>52452</td>\n",
       "      <td>35001</td>\n",
       "      <td>29675</td>\n",
       "      <td>28667</td>\n",
       "      <td>4341</td>\n",
       "      <td>2068</td>\n",
       "      <td>3315</td>\n",
       "      <td>1029</td>\n",
       "      <td>1334</td>\n",
       "      <td>1673</td>\n",
       "    </tr>\n",
       "    <tr>\n",
       "      <th>24996</th>\n",
       "      <td>100000</td>\n",
       "      <td>1</td>\n",
       "      <td>2</td>\n",
       "      <td>2</td>\n",
       "      <td>35</td>\n",
       "      <td>8102</td>\n",
       "      <td>10252</td>\n",
       "      <td>5607</td>\n",
       "      <td>59265</td>\n",
       "      <td>62554</td>\n",
       "      <td>55392</td>\n",
       "      <td>2500</td>\n",
       "      <td>0</td>\n",
       "      <td>59265</td>\n",
       "      <td>4100</td>\n",
       "      <td>2500</td>\n",
       "      <td>0</td>\n",
       "    </tr>\n",
       "    <tr>\n",
       "      <th>24997</th>\n",
       "      <td>50000</td>\n",
       "      <td>2</td>\n",
       "      <td>2</td>\n",
       "      <td>1</td>\n",
       "      <td>42</td>\n",
       "      <td>0</td>\n",
       "      <td>0</td>\n",
       "      <td>0</td>\n",
       "      <td>0</td>\n",
       "      <td>0</td>\n",
       "      <td>0</td>\n",
       "      <td>0</td>\n",
       "      <td>0</td>\n",
       "      <td>0</td>\n",
       "      <td>0</td>\n",
       "      <td>0</td>\n",
       "      <td>0</td>\n",
       "    </tr>\n",
       "    <tr>\n",
       "      <th>24998</th>\n",
       "      <td>240000</td>\n",
       "      <td>1</td>\n",
       "      <td>1</td>\n",
       "      <td>2</td>\n",
       "      <td>29</td>\n",
       "      <td>64826</td>\n",
       "      <td>72951</td>\n",
       "      <td>62848</td>\n",
       "      <td>60645</td>\n",
       "      <td>57554</td>\n",
       "      <td>57375</td>\n",
       "      <td>10589</td>\n",
       "      <td>34</td>\n",
       "      <td>4400</td>\n",
       "      <td>0</td>\n",
       "      <td>2000</td>\n",
       "      <td>1900</td>\n",
       "    </tr>\n",
       "    <tr>\n",
       "      <th>24999</th>\n",
       "      <td>360000</td>\n",
       "      <td>1</td>\n",
       "      <td>1</td>\n",
       "      <td>2</td>\n",
       "      <td>33</td>\n",
       "      <td>71195</td>\n",
       "      <td>60553</td>\n",
       "      <td>60158</td>\n",
       "      <td>16672</td>\n",
       "      <td>35039</td>\n",
       "      <td>8320</td>\n",
       "      <td>0</td>\n",
       "      <td>1399</td>\n",
       "      <td>0</td>\n",
       "      <td>35039</td>\n",
       "      <td>8320</td>\n",
       "      <td>5169</td>\n",
       "    </tr>\n",
       "  </tbody>\n",
       "</table>\n",
       "<p>24978 rows × 17 columns</p>\n",
       "</div>"
      ],
      "text/plain": [
       "           X1  X2  X3  X4  X5    X12    X13    X14    X15    X16    X17  \\\n",
       "0       20000   2   2   2  44  18578  19928  18677  18503  17231  15410   \n",
       "1      100000   2   2   1  49   5532   5325   5423  29628  13252   3723   \n",
       "2      210000   2   2   1  29  42140  31938  45502  41704  40509  41305   \n",
       "3      120000   2   2   2  28    200    200      0      0      0      0   \n",
       "4       50000   2   2   2  47  50883  51117  51125  50497  50544  50555   \n",
       "...       ...  ..  ..  ..  ..    ...    ...    ...    ...    ...    ...   \n",
       "24995   90000   2   3   2  22  68663  65244  52452  35001  29675  28667   \n",
       "24996  100000   1   2   2  35   8102  10252   5607  59265  62554  55392   \n",
       "24997   50000   2   2   1  42      0      0      0      0      0      0   \n",
       "24998  240000   1   1   2  29  64826  72951  62848  60645  57554  57375   \n",
       "24999  360000   1   1   2  33  71195  60553  60158  16672  35039   8320   \n",
       "\n",
       "         X18    X19    X20    X21   X22   X23  \n",
       "0       2000   2000   2000   1100  1586   506  \n",
       "1       5325   5423  29628      0     0  3513  \n",
       "2       2000  20020   1672   1600  1600  2000  \n",
       "3          0      0      0      0     0     0  \n",
       "4       2200   5300   2000   2000  2000  2000  \n",
       "...      ...    ...    ...    ...   ...   ...  \n",
       "24995   4341   2068   3315   1029  1334  1673  \n",
       "24996   2500      0  59265   4100  2500     0  \n",
       "24997      0      0      0      0     0     0  \n",
       "24998  10589     34   4400      0  2000  1900  \n",
       "24999      0   1399      0  35039  8320  5169  \n",
       "\n",
       "[24978 rows x 17 columns]"
      ]
     },
     "execution_count": 63,
     "metadata": {},
     "output_type": "execute_result"
    }
   ],
   "source": [
    "x"
   ]
  },
  {
   "cell_type": "code",
   "execution_count": 54,
   "metadata": {},
   "outputs": [],
   "source": [
    "from sklearn.metrics import precision_score\n",
    "import xgboost as xgb\n",
    "from hyperopt import fmin, tpe, hp, STATUS_OK, Trials\n",
    "from hyperopt.pyll import scope\n",
    "from sklearn.ensemble import HistGradientBoostingClassifier"
   ]
  },
  {
   "cell_type": "code",
   "execution_count": 55,
   "metadata": {},
   "outputs": [],
   "source": [
    "def objective(params):\n",
    "    # Train model\n",
    "    booster = HistGradientBoostingClassifier(**params).fit(x_train, y_train)\n",
    "\n",
    "    # Predict in the val dataset\n",
    "    y_pred = booster.predict(x_test)\n",
    "\n",
    "    # Calculate metric\n",
    "    ps = precision_score(y_test, y_pred)\n",
    "    rmse = 1 - ps\n",
    "\n",
    "    return {'loss': rmse, 'status': STATUS_OK}"
   ]
  },
  {
   "cell_type": "code",
   "execution_count": 60,
   "metadata": {},
   "outputs": [
    {
     "name": "stdout",
     "output_type": "stream",
     "text": [
      "100%|██████████| 100/100 [01:26<00:00,  1.15trial/s, best loss: 0.3746898263027295]\n"
     ]
    }
   ],
   "source": [
    "search_space = {\n",
    "    'max_depth': scope.int(hp.quniform('max_depth', 4, 100, 1)),\n",
    "    'max_leaf_nodes': scope.int(hp.quniform('max_leaf_nodes', 4, 100, 1)),\n",
    "    'min_samples_leaf': scope.int(hp.quniform('min_samples_leaf', 4, 100, 1)),\n",
    "    'max_bins': scope.int(hp.quniform('max_bins', 2, 255, 1)),\n",
    "    'learning_rate': hp.loguniform('learning_rate', -3, 0),\n",
    "    'l2_regularization': hp.loguniform('l2_regularization', -6, -1),\n",
    "    'random_state': SEED\n",
    "}\n",
    "\n",
    "best_params = fmin(\n",
    "    fn=objective,\n",
    "    space=search_space,\n",
    "    algo=tpe.suggest,\n",
    "    max_evals=100,\n",
    "    trials=Trials()\n",
    ")\n",
    "\n",
    "best_params[\"max_depth\"] = int(best_params[\"max_depth\"])\n",
    "best_params[\"max_leaf_nodes\"] = int(best_params[\"max_leaf_nodes\"])\n",
    "best_params[\"max_bins\"] = int(best_params[\"max_bins\"])\n",
    "best_params[\"min_samples_leaf\"] = int(best_params[\"min_samples_leaf\"])\n",
    "best_params[\"random_state\"] = SEED"
   ]
  },
  {
   "cell_type": "code",
   "execution_count": 62,
   "metadata": {},
   "outputs": [
    {
     "data": {
      "text/plain": [
       "{'l2_regularization': np.float64(0.023155505334482192),\n",
       " 'learning_rate': np.float64(0.050253208819036124),\n",
       " 'max_bins': 225,\n",
       " 'max_depth': 53,\n",
       " 'max_leaf_nodes': 21,\n",
       " 'random_state': 20020906}"
      ]
     },
     "execution_count": 62,
     "metadata": {},
     "output_type": "execute_result"
    }
   ],
   "source": [
    "best_params"
   ]
  }
 ],
 "metadata": {
  "kernelspec": {
   "display_name": ".venv",
   "language": "python",
   "name": "python3"
  },
  "language_info": {
   "codemirror_mode": {
    "name": "ipython",
    "version": 3
   },
   "file_extension": ".py",
   "mimetype": "text/x-python",
   "name": "python",
   "nbconvert_exporter": "python",
   "pygments_lexer": "ipython3",
   "version": "3.12.7"
  }
 },
 "nbformat": 4,
 "nbformat_minor": 2
}
